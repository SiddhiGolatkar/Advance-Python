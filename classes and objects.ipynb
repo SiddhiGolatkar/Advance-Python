{
 "cells": [
  {
   "cell_type": "markdown",
   "metadata": {},
   "source": [
    "### Computed Attributes"
   ]
  },
  {
   "cell_type": "code",
   "execution_count": 1,
   "metadata": {},
   "outputs": [],
   "source": [
    "class mycolor():\n",
    "    def __init__(self):\n",
    "        self.red = 50\n",
    "        self.green = 75\n",
    "        self.blue = 100\n",
    "\n",
    "# use getattr to dynamically return a value\n",
    "\n",
    "    def __getattr__(self, attr):\n",
    "        if attr == 'rgbcolor':\n",
    "            return(self.red, self.green, self.blue)\n",
    "        else:\n",
    "            raise AttributeError"
   ]
  },
  {
   "cell_type": "code",
   "execution_count": 3,
   "metadata": {},
   "outputs": [
    {
     "name": "stdout",
     "output_type": "stream",
     "text": [
      "<__main__.mycolor object at 0x000001C11CCC8808>\n",
      "(50, 75, 100)\n"
     ]
    }
   ],
   "source": [
    "cls1 = mycolor()\n",
    "\n",
    "print(cls1)\n",
    "\n",
    "print(cls1.rgbcolor)"
   ]
  },
  {
   "cell_type": "code",
   "execution_count": 6,
   "metadata": {},
   "outputs": [],
   "source": [
    "class mycolor():\n",
    "    def __init__(self):\n",
    "        self.red = 50\n",
    "        self.green = 75\n",
    "        self.blue = 100\n",
    "\n",
    "# use getattr to dynamically return a value\n",
    "\n",
    "    def __getattr__(self, attr):\n",
    "        if attr == 'rgbcolor':\n",
    "            return(self.red, self.green, self.blue)\n",
    "        elif attr == 'hexcolor':\n",
    "            return '#{0:02x}{1:02x}{2:02x}'.format(self.red, self.green, self.blue)\n",
    "        else:\n",
    "            raise AttributeError"
   ]
  },
  {
   "cell_type": "code",
   "execution_count": 8,
   "metadata": {},
   "outputs": [
    {
     "name": "stdout",
     "output_type": "stream",
     "text": [
      "<__main__.mycolor object at 0x000001C11CC9EE88>\n",
      "(50, 75, 100)\n",
      "#324b64\n"
     ]
    }
   ],
   "source": [
    "cls1 = mycolor()\n",
    "\n",
    "print(cls1)\n",
    "\n",
    "print(cls1.rgbcolor)\n",
    "\n",
    "print(cls1.hexcolor)"
   ]
  },
  {
   "cell_type": "code",
   "execution_count": 11,
   "metadata": {},
   "outputs": [],
   "source": [
    "class mycolor():\n",
    "    def __init__(self):\n",
    "        self.red = 50\n",
    "        self.green = 75\n",
    "        self.blue = 100\n",
    "\n",
    "# use getattr to dynamically return a value\n",
    "\n",
    "    def __getattr__(self, attr):\n",
    "        if attr == 'rgbcolor':\n",
    "            return(self.red, self.green, self.blue)\n",
    "        elif attr == 'hexcolor':\n",
    "            return '#{0:02x}{1:02x}{2:02x}'.format(self.red, self.green, self.blue)\n",
    "        else:\n",
    "            raise AttributeError\n",
    "            \n",
    "# use setattr to dynamically return a value\n",
    "\n",
    "    def __setattr__(self, attr, val):\n",
    "        if attr == 'rgbcolor':\n",
    "            self.red = val[0]\n",
    "            self.green = val[1]\n",
    "            self.blue = val[2]"
   ]
  },
  {
   "cell_type": "code",
   "execution_count": 12,
   "metadata": {},
   "outputs": [
    {
     "name": "stdout",
     "output_type": "stream",
     "text": [
      "<__main__.mycolor object at 0x000001C11CD50188>\n"
     ]
    },
    {
     "ename": "AttributeError",
     "evalue": "",
     "output_type": "error",
     "traceback": [
      "\u001b[1;31m---------------------------------------------------------------------------\u001b[0m",
      "\u001b[1;31mAttributeError\u001b[0m                            Traceback (most recent call last)",
      "\u001b[1;32m<ipython-input-12-a3b2828bb8ff>\u001b[0m in \u001b[0;36m<module>\u001b[1;34m\u001b[0m\n\u001b[0;32m      3\u001b[0m \u001b[0mprint\u001b[0m\u001b[1;33m(\u001b[0m\u001b[0mcls1\u001b[0m\u001b[1;33m)\u001b[0m\u001b[1;33m\u001b[0m\u001b[1;33m\u001b[0m\u001b[0m\n\u001b[0;32m      4\u001b[0m \u001b[1;33m\u001b[0m\u001b[0m\n\u001b[1;32m----> 5\u001b[1;33m \u001b[0mprint\u001b[0m\u001b[1;33m(\u001b[0m\u001b[0mcls1\u001b[0m\u001b[1;33m.\u001b[0m\u001b[0mrgbcolor\u001b[0m\u001b[1;33m)\u001b[0m\u001b[1;33m\u001b[0m\u001b[1;33m\u001b[0m\u001b[0m\n\u001b[0m\u001b[0;32m      6\u001b[0m \u001b[1;33m\u001b[0m\u001b[0m\n\u001b[0;32m      7\u001b[0m \u001b[0mprint\u001b[0m\u001b[1;33m(\u001b[0m\u001b[0mcls1\u001b[0m\u001b[1;33m.\u001b[0m\u001b[0mhexcolor\u001b[0m\u001b[1;33m)\u001b[0m\u001b[1;33m\u001b[0m\u001b[1;33m\u001b[0m\u001b[0m\n",
      "\u001b[1;32m<ipython-input-11-b73f3c0d7064>\u001b[0m in \u001b[0;36m__getattr__\u001b[1;34m(self, attr)\u001b[0m\n\u001b[0;32m      9\u001b[0m     \u001b[1;32mdef\u001b[0m \u001b[0m__getattr__\u001b[0m\u001b[1;33m(\u001b[0m\u001b[0mself\u001b[0m\u001b[1;33m,\u001b[0m \u001b[0mattr\u001b[0m\u001b[1;33m)\u001b[0m\u001b[1;33m:\u001b[0m\u001b[1;33m\u001b[0m\u001b[1;33m\u001b[0m\u001b[0m\n\u001b[0;32m     10\u001b[0m         \u001b[1;32mif\u001b[0m \u001b[0mattr\u001b[0m \u001b[1;33m==\u001b[0m \u001b[1;34m'rgbcolor'\u001b[0m\u001b[1;33m:\u001b[0m\u001b[1;33m\u001b[0m\u001b[1;33m\u001b[0m\u001b[0m\n\u001b[1;32m---> 11\u001b[1;33m             \u001b[1;32mreturn\u001b[0m\u001b[1;33m(\u001b[0m\u001b[0mself\u001b[0m\u001b[1;33m.\u001b[0m\u001b[0mred\u001b[0m\u001b[1;33m,\u001b[0m \u001b[0mself\u001b[0m\u001b[1;33m.\u001b[0m\u001b[0mgreen\u001b[0m\u001b[1;33m,\u001b[0m \u001b[0mself\u001b[0m\u001b[1;33m.\u001b[0m\u001b[0mblue\u001b[0m\u001b[1;33m)\u001b[0m\u001b[1;33m\u001b[0m\u001b[1;33m\u001b[0m\u001b[0m\n\u001b[0m\u001b[0;32m     12\u001b[0m         \u001b[1;32melif\u001b[0m \u001b[0mattr\u001b[0m \u001b[1;33m==\u001b[0m \u001b[1;34m'hexcolor'\u001b[0m\u001b[1;33m:\u001b[0m\u001b[1;33m\u001b[0m\u001b[1;33m\u001b[0m\u001b[0m\n\u001b[0;32m     13\u001b[0m             \u001b[1;32mreturn\u001b[0m \u001b[1;34m'#{0:02x}{1:02x}{2:02x}'\u001b[0m\u001b[1;33m.\u001b[0m\u001b[0mformat\u001b[0m\u001b[1;33m(\u001b[0m\u001b[0mself\u001b[0m\u001b[1;33m.\u001b[0m\u001b[0mred\u001b[0m\u001b[1;33m,\u001b[0m \u001b[0mself\u001b[0m\u001b[1;33m.\u001b[0m\u001b[0mgreen\u001b[0m\u001b[1;33m,\u001b[0m \u001b[0mself\u001b[0m\u001b[1;33m.\u001b[0m\u001b[0mblue\u001b[0m\u001b[1;33m)\u001b[0m\u001b[1;33m\u001b[0m\u001b[1;33m\u001b[0m\u001b[0m\n",
      "\u001b[1;32m<ipython-input-11-b73f3c0d7064>\u001b[0m in \u001b[0;36m__getattr__\u001b[1;34m(self, attr)\u001b[0m\n\u001b[0;32m     13\u001b[0m             \u001b[1;32mreturn\u001b[0m \u001b[1;34m'#{0:02x}{1:02x}{2:02x}'\u001b[0m\u001b[1;33m.\u001b[0m\u001b[0mformat\u001b[0m\u001b[1;33m(\u001b[0m\u001b[0mself\u001b[0m\u001b[1;33m.\u001b[0m\u001b[0mred\u001b[0m\u001b[1;33m,\u001b[0m \u001b[0mself\u001b[0m\u001b[1;33m.\u001b[0m\u001b[0mgreen\u001b[0m\u001b[1;33m,\u001b[0m \u001b[0mself\u001b[0m\u001b[1;33m.\u001b[0m\u001b[0mblue\u001b[0m\u001b[1;33m)\u001b[0m\u001b[1;33m\u001b[0m\u001b[1;33m\u001b[0m\u001b[0m\n\u001b[0;32m     14\u001b[0m         \u001b[1;32melse\u001b[0m\u001b[1;33m:\u001b[0m\u001b[1;33m\u001b[0m\u001b[1;33m\u001b[0m\u001b[0m\n\u001b[1;32m---> 15\u001b[1;33m             \u001b[1;32mraise\u001b[0m \u001b[0mAttributeError\u001b[0m\u001b[1;33m\u001b[0m\u001b[1;33m\u001b[0m\u001b[0m\n\u001b[0m\u001b[0;32m     16\u001b[0m \u001b[1;33m\u001b[0m\u001b[0m\n\u001b[0;32m     17\u001b[0m \u001b[1;31m# use setattr to dynamically return a value\u001b[0m\u001b[1;33m\u001b[0m\u001b[1;33m\u001b[0m\u001b[1;33m\u001b[0m\u001b[0m\n",
      "\u001b[1;31mAttributeError\u001b[0m: "
     ]
    }
   ],
   "source": [
    "cls1 = mycolor()\n",
    "\n",
    "print(cls1)\n",
    "\n",
    "print(cls1.rgbcolor)\n",
    "\n",
    "print(cls1.hexcolor)"
   ]
  },
  {
   "cell_type": "code",
   "execution_count": 13,
   "metadata": {},
   "outputs": [],
   "source": [
    "class mycolor():\n",
    "    def __init__(self):\n",
    "        self.red = 50\n",
    "        self.green = 75\n",
    "        self.blue = 100\n",
    "\n",
    "# use getattr to dynamically return a value\n",
    "\n",
    "    def __getattr__(self, attr):\n",
    "        if attr == 'rgbcolor':\n",
    "            return(self.red, self.green, self.blue)\n",
    "        elif attr == 'hexcolor':\n",
    "            return '#{0:02x}{1:02x}{2:02x}'.format(self.red, self.green, self.blue)\n",
    "        else:\n",
    "            raise AttributeError\n",
    "            \n",
    "# use setattr to dynamically return a value\n",
    "\n",
    "    def __setattr__(self, attr, val):\n",
    "        if attr == 'rgbcolor':\n",
    "            self.red = val[0]\n",
    "            self.green = val[1]\n",
    "            self.blue = val[2]\n",
    "        else:\n",
    "            super().__setattr__(attr, val)"
   ]
  },
  {
   "cell_type": "code",
   "execution_count": 15,
   "metadata": {},
   "outputs": [
    {
     "name": "stdout",
     "output_type": "stream",
     "text": [
      "<__main__.mycolor object at 0x000001C11CBAAF88>\n",
      "(50, 75, 100)\n",
      "#324b64\n",
      "(125, 200, 85)\n",
      "#7dc855\n",
      "125\n"
     ]
    }
   ],
   "source": [
    "cls1 = mycolor()\n",
    "\n",
    "print(cls1)\n",
    "\n",
    "print(cls1.rgbcolor)\n",
    "\n",
    "print(cls1.hexcolor)\n",
    "\n",
    "# set the value of a computed attribute\n",
    "\n",
    "cls1.rgbcolor = (125,200,85)\n",
    "\n",
    "print(cls1.rgbcolor)\n",
    "\n",
    "print(cls1.hexcolor)\n",
    "\n",
    "# access a regular attribute\n",
    "\n",
    "print(cls1.red)"
   ]
  },
  {
   "cell_type": "code",
   "execution_count": 16,
   "metadata": {},
   "outputs": [],
   "source": [
    "class mycolor():\n",
    "    def __init__(self):\n",
    "        self.red = 50\n",
    "        self.green = 75\n",
    "        self.blue = 100\n",
    "\n",
    "# use getattr to dynamically return a value\n",
    "\n",
    "    def __getattr__(self, attr):\n",
    "        if attr == 'rgbcolor':\n",
    "            return(self.red, self.green, self.blue)\n",
    "        elif attr == 'hexcolor':\n",
    "            return '#{0:02x}{1:02x}{2:02x}'.format(self.red, self.green, self.blue)\n",
    "        else:\n",
    "            raise AttributeError\n",
    "            \n",
    "# use setattr to dynamically return a value\n",
    "\n",
    "    def __setattr__(self, attr, val):\n",
    "        if attr == 'rgbcolor':\n",
    "            self.red = val[0]\n",
    "            self.green = val[1]\n",
    "            self.blue = val[2]\n",
    "        else:\n",
    "            super().__setattr__(attr, val)\n",
    "            \n",
    "# use dir to list the available properties\n",
    "\n",
    "    def __dir__(self):\n",
    "        return('red', 'green', 'blue', 'rgbcolor', 'hexcolor')\n",
    "    "
   ]
  },
  {
   "cell_type": "code",
   "execution_count": 18,
   "metadata": {},
   "outputs": [
    {
     "name": "stdout",
     "output_type": "stream",
     "text": [
      "<__main__.mycolor object at 0x000001C11CD5E688>\n",
      "(50, 75, 100)\n",
      "#324b64\n",
      "(125, 200, 85)\n",
      "#7dc855\n",
      "125\n",
      "['blue', 'green', 'hexcolor', 'red', 'rgbcolor']\n"
     ]
    }
   ],
   "source": [
    "cls1 = mycolor()\n",
    "\n",
    "print(cls1)\n",
    "\n",
    "print(cls1.rgbcolor)\n",
    "\n",
    "print(cls1.hexcolor)\n",
    "\n",
    "# set the value of a computed attribute\n",
    "\n",
    "cls1.rgbcolor = (125,200,85)\n",
    "\n",
    "print(cls1.rgbcolor)\n",
    "\n",
    "print(cls1.hexcolor)\n",
    "\n",
    "# access a regular attribute\n",
    "\n",
    "print(cls1.red)\n",
    "\n",
    "# list the available attributes\n",
    "\n",
    "print(dir(cls1))"
   ]
  },
  {
   "cell_type": "markdown",
   "metadata": {},
   "source": [
    "### object operations"
   ]
  },
  {
   "cell_type": "code",
   "execution_count": 54,
   "metadata": {},
   "outputs": [
    {
     "name": "stdout",
     "output_type": "stream",
     "text": [
      "point x:10, y:20 point x:30, y:30\n",
      "point x:40, y:50\n",
      "point x:-20, y:-10\n",
      "point x:40, y:50\n"
     ]
    }
   ],
   "source": [
    "class point():\n",
    "    def __init__(self, x, y):\n",
    "        self.x = x\n",
    "        self.y = y\n",
    "        \n",
    "    def __repr__(self):\n",
    "        return 'point x:{0}, y:{1}'.format(self.x, self.y)\n",
    "    \n",
    "    # implement addition\n",
    "    \n",
    "    def __add__(self, other):\n",
    "        return point(self.x + other.x, self.y + other.y)\n",
    "    \n",
    "    # implement subtraction\n",
    "    \n",
    "    def __sub__(self, other):\n",
    "        return point(self.x - other.x, self.y - other.y)\n",
    "    \n",
    "    # implement inplace addition\n",
    "    \n",
    "    def __iadd__(self, other):\n",
    "        self.x += other.x\n",
    "        self.y += other.y\n",
    "        return self\n",
    "    \n",
    "def main():\n",
    "    p1 = point(10,20)\n",
    "    p2 = point(30,30)\n",
    "    print(p1,p2)\n",
    "    \n",
    "    # add two points\n",
    "    \n",
    "    p3 = p1 + p2\n",
    "    \n",
    "    print(p3)\n",
    "    \n",
    "    # subtract two points\n",
    "    \n",
    "    p4 = p1 - p2\n",
    "    \n",
    "    print(p4)\n",
    "    \n",
    "    # perform inplace addition\n",
    "    \n",
    "    p1 += p2\n",
    "    print(p1)\n",
    "    \n",
    "if __name__ == '__main__':\n",
    "    main()"
   ]
  },
  {
   "cell_type": "markdown",
   "metadata": {},
   "source": [
    "### object comparisons"
   ]
  },
  {
   "cell_type": "code",
   "execution_count": 15,
   "metadata": {},
   "outputs": [
    {
     "name": "stdout",
     "output_type": "stream",
     "text": [
      "False\n",
      "True\n",
      "John Doe - level: 4 , years of service 12\n",
      "Tim sims - level: 5 , years of service 9\n",
      "Tyler durden - level: 5 , years of service 12\n",
      "Rebecca Robinson - level: 5 , years of service 13\n",
      "Jane smith - level: 6 , years of service 6\n"
     ]
    }
   ],
   "source": [
    "class employee():\n",
    "    \n",
    "    def __init__(self, fname, lname, level, service):\n",
    "        \n",
    "        self.fname = fname\n",
    "        self.lname = lname\n",
    "        self.level = level\n",
    "        self.service = service\n",
    "        \n",
    "        # implement comparison function by emp level\n",
    "        \n",
    "    def __ge__(self, other):\n",
    "        if self.level == other.level:\n",
    "            return self.service >= other.service \n",
    "        return self.level >= other.level\n",
    "        \n",
    "    def __gt__(self, other):\n",
    "        if self.level == other.level:\n",
    "            return self.service > other.service\n",
    "        return self.level > other.level\n",
    "        \n",
    "    def __lt__(self, other):\n",
    "        if self.level == other.level:\n",
    "            return self.service < other.service\n",
    "        return self.level < other.level\n",
    "        \n",
    "    def __le__(self, other):\n",
    "        if self.level == other.level:\n",
    "            return self.service <= other.service\n",
    "        return self.level <= other.level\n",
    "        \n",
    "def main():\n",
    "    # define some employees\n",
    "    \n",
    "    dept = []\n",
    "    dept.append(employee('Tim', 'sims', 5, 9))\n",
    "    dept.append(employee('John', 'Doe', 4, 12))\n",
    "    dept.append(employee('Jane', 'smith', 6, 6))\n",
    "    dept.append(employee('Rebecca', 'Robinson', 5, 13))\n",
    "    dept.append(employee('Tyler', 'durden', 5, 12))\n",
    "    \n",
    "    # who is more senior?\n",
    "    \n",
    "    print(dept[0] > dept[2])\n",
    "    \n",
    "    print(dept[4] < dept[3])\n",
    "    \n",
    "    # sort the items\n",
    "    \n",
    "    emps = sorted(dept)\n",
    "    for emp in emps:\n",
    "        print(emp.fname, emp.lname, '- level:',emp.level, ', years of service', emp.service)\n",
    "    \n",
    "if __name__ == '__main__':\n",
    "    main()"
   ]
  },
  {
   "cell_type": "code",
   "execution_count": null,
   "metadata": {},
   "outputs": [],
   "source": []
  },
  {
   "cell_type": "code",
   "execution_count": null,
   "metadata": {},
   "outputs": [],
   "source": []
  }
 ],
 "metadata": {
  "kernelspec": {
   "display_name": "Python 3",
   "language": "python",
   "name": "python3"
  },
  "language_info": {
   "codemirror_mode": {
    "name": "ipython",
    "version": 3
   },
   "file_extension": ".py",
   "mimetype": "text/x-python",
   "name": "python",
   "nbconvert_exporter": "python",
   "pygments_lexer": "ipython3",
   "version": "3.7.6"
  }
 },
 "nbformat": 4,
 "nbformat_minor": 4
}
