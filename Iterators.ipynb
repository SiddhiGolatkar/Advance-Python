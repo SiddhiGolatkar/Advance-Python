{
 "cells": [
  {
   "cell_type": "code",
   "execution_count": 1,
   "metadata": {},
   "outputs": [
    {
     "name": "stdout",
     "output_type": "stream",
     "text": [
      "sun\n",
      "mon\n",
      "tue\n",
      "wed\n",
      "thurs\n"
     ]
    }
   ],
   "source": [
    "days = ['sun', 'mon', 'tue', 'wed', 'thurs' ]\n",
    "\n",
    "for i in days:\n",
    "    print(i)"
   ]
  },
  {
   "cell_type": "code",
   "execution_count": 2,
   "metadata": {},
   "outputs": [
    {
     "name": "stdout",
     "output_type": "stream",
     "text": [
      "0 ['sun', 'mon', 'tue', 'wed', 'thurs']\n",
      "1 ['sun', 'mon', 'tue', 'wed', 'thurs']\n",
      "2 ['sun', 'mon', 'tue', 'wed', 'thurs']\n",
      "3 ['sun', 'mon', 'tue', 'wed', 'thurs']\n",
      "4 ['sun', 'mon', 'tue', 'wed', 'thurs']\n"
     ]
    }
   ],
   "source": [
    "for i in range(len(days)):\n",
    "    print(i, days)"
   ]
  },
  {
   "cell_type": "code",
   "execution_count": 4,
   "metadata": {},
   "outputs": [
    {
     "ename": "TypeError",
     "evalue": "'list' object is not callable",
     "output_type": "error",
     "traceback": [
      "\u001b[1;31m---------------------------------------------------------------------------\u001b[0m",
      "\u001b[1;31mTypeError\u001b[0m                                 Traceback (most recent call last)",
      "\u001b[1;32m<ipython-input-4-ab67eefadb82>\u001b[0m in \u001b[0;36m<module>\u001b[1;34m\u001b[0m\n\u001b[0;32m      1\u001b[0m \u001b[1;32mfor\u001b[0m \u001b[0mi\u001b[0m \u001b[1;32min\u001b[0m \u001b[0mrange\u001b[0m\u001b[1;33m(\u001b[0m\u001b[0mlen\u001b[0m\u001b[1;33m(\u001b[0m\u001b[0mdays\u001b[0m\u001b[1;33m)\u001b[0m\u001b[1;33m)\u001b[0m\u001b[1;33m:\u001b[0m\u001b[1;33m\u001b[0m\u001b[1;33m\u001b[0m\u001b[0m\n\u001b[1;32m----> 2\u001b[1;33m     \u001b[0mprint\u001b[0m\u001b[1;33m(\u001b[0m\u001b[0mi\u001b[0m\u001b[1;33m,\u001b[0m \u001b[0mdays\u001b[0m\u001b[1;33m(\u001b[0m\u001b[0mi\u001b[0m\u001b[1;33m)\u001b[0m\u001b[1;33m)\u001b[0m\u001b[1;33m\u001b[0m\u001b[1;33m\u001b[0m\u001b[0m\n\u001b[0m",
      "\u001b[1;31mTypeError\u001b[0m: 'list' object is not callable"
     ]
    }
   ],
   "source": [
    "for i in range(len(days)):\n",
    "    print(i, days(i)) "
   ]
  },
  {
   "cell_type": "code",
   "execution_count": 5,
   "metadata": {},
   "outputs": [
    {
     "name": "stdout",
     "output_type": "stream",
     "text": [
      "0 sun\n",
      "1 mon\n",
      "2 tue\n",
      "3 wed\n",
      "4 thurs\n"
     ]
    }
   ],
   "source": [
    "for i in range(len(days)):\n",
    "    print(i, days[i])"
   ]
  },
  {
   "cell_type": "code",
   "execution_count": 6,
   "metadata": {},
   "outputs": [
    {
     "name": "stdout",
     "output_type": "stream",
     "text": [
      "1 sun\n",
      "2 mon\n",
      "3 tue\n",
      "4 wed\n",
      "5 thurs\n"
     ]
    }
   ],
   "source": [
    "for i in range(len(days)):\n",
    "    print(i+1, days[i])"
   ]
  },
  {
   "cell_type": "code",
   "execution_count": 8,
   "metadata": {},
   "outputs": [
    {
     "name": "stdout",
     "output_type": "stream",
     "text": [
      "1 sun\n",
      "2 mon\n",
      "3 tue\n",
      "4 wed\n",
      "5 thurs\n"
     ]
    }
   ],
   "source": [
    "for count, day in enumerate(days, start = 1):\n",
    "    print(count, day)"
   ]
  },
  {
   "cell_type": "code",
   "execution_count": 9,
   "metadata": {},
   "outputs": [
    {
     "name": "stdout",
     "output_type": "stream",
     "text": [
      "('sun', 'jan')\n",
      "('mon', 'feb')\n",
      "('tue', 'mar')\n",
      "('wed', 'apr')\n"
     ]
    }
   ],
   "source": [
    "month = ['jan', 'feb', 'mar', 'apr']\n",
    "\n",
    "for i in zip(days, month):\n",
    "    print(i)"
   ]
  },
  {
   "cell_type": "code",
   "execution_count": 10,
   "metadata": {},
   "outputs": [
    {
     "name": "stdout",
     "output_type": "stream",
     "text": [
      "('sun', 'jan') 1\n",
      "('mon', 'feb') 2\n",
      "('tue', 'mar') 3\n",
      "('wed', 'apr') 4\n"
     ]
    }
   ],
   "source": [
    "for count, i in enumerate(zip(days, month), start = 1):\n",
    "    print(i, count)"
   ]
  },
  {
   "cell_type": "code",
   "execution_count": 11,
   "metadata": {},
   "outputs": [
    {
     "name": "stdout",
     "output_type": "stream",
     "text": [
      "1 ('sun', 'jan')\n",
      "2 ('mon', 'feb')\n",
      "3 ('tue', 'mar')\n",
      "4 ('wed', 'apr')\n"
     ]
    }
   ],
   "source": [
    "for count, i in enumerate(zip(days, month), start = 1):\n",
    "    print(count, i)"
   ]
  },
  {
   "cell_type": "code",
   "execution_count": 12,
   "metadata": {},
   "outputs": [
    {
     "name": "stdout",
     "output_type": "stream",
     "text": [
      "1 sun in jan month\n",
      "2 mon in feb month\n",
      "3 tue in mar month\n",
      "4 wed in apr month\n"
     ]
    }
   ],
   "source": [
    "for count, i in enumerate(zip(days, month), start = 1):\n",
    "    print(count, i[0], 'in', i[1], 'month')"
   ]
  },
  {
   "cell_type": "code",
   "execution_count": 17,
   "metadata": {},
   "outputs": [
    {
     "data": {
      "text/plain": [
       "[1, 3, 5, 7, 9]"
      ]
     },
     "execution_count": 17,
     "metadata": {},
     "output_type": "execute_result"
    }
   ],
   "source": [
    "nums = [1,2,3,4,5,6,7,8,9,10]\n",
    "\n",
    "odds = list(filter(lambda x: x % 2 != 0, nums))\n",
    "\n",
    "odds"
   ]
  },
  {
   "cell_type": "code",
   "execution_count": 28,
   "metadata": {},
   "outputs": [],
   "source": [
    "numbers = [1,2,3,4,5,6,7,8,9,10]\n",
    "\n",
    "def filterfunct(x):\n",
    "    if x%2 == 0:\n",
    "        return False\n",
    "    else:\n",
    "        True"
   ]
  },
  {
   "cell_type": "code",
   "execution_count": 29,
   "metadata": {},
   "outputs": [
    {
     "name": "stdout",
     "output_type": "stream",
     "text": [
      "[]\n"
     ]
    }
   ],
   "source": [
    "odds = list(filter(filterfunct, numbers))\n",
    "print(odds) "
   ]
  },
  {
   "cell_type": "code",
   "execution_count": 30,
   "metadata": {},
   "outputs": [],
   "source": [
    "numbers = [1,2,3,4,5,6,7,8,9,10]\n",
    "\n",
    "def filterfunct(x):\n",
    "    if x%2 == 0:\n",
    "        return False\n",
    "    return True"
   ]
  },
  {
   "cell_type": "code",
   "execution_count": 31,
   "metadata": {},
   "outputs": [
    {
     "name": "stdout",
     "output_type": "stream",
     "text": [
      "[1, 3, 5, 7, 9]\n"
     ]
    }
   ],
   "source": [
    "odds = list(filter(filterfunct, numbers))\n",
    "print(odds)"
   ]
  },
  {
   "cell_type": "code",
   "execution_count": 32,
   "metadata": {},
   "outputs": [
    {
     "data": {
      "text/plain": [
       "['a', 'b', 'c', 'g', 'h', 'i']"
      ]
     },
     "execution_count": 32,
     "metadata": {},
     "output_type": "execute_result"
    }
   ],
   "source": [
    "chars = 'abcDEFghiJKL'\n",
    "\n",
    "lowers = list(filter(lambda x: x == x.lower(), chars))\n",
    "\n",
    "lowers"
   ]
  },
  {
   "cell_type": "code",
   "execution_count": 33,
   "metadata": {},
   "outputs": [
    {
     "data": {
      "text/plain": [
       "['a', 'b', 'c', 'g', 'h', 'i']"
      ]
     },
     "execution_count": 33,
     "metadata": {},
     "output_type": "execute_result"
    }
   ],
   "source": [
    "chars = 'abcDEFghiJKL'\n",
    "\n",
    "def lowerfunct(x):\n",
    "    if x == x.lower():\n",
    "        return True\n",
    "    return False\n",
    "    \n",
    "lowers = list(filter(lowerfunct, chars))\n",
    "\n",
    "lowers"
   ]
  },
  {
   "cell_type": "code",
   "execution_count": 34,
   "metadata": {},
   "outputs": [
    {
     "data": {
      "text/plain": [
       "[1, 4, 9, 16, 25]"
      ]
     },
     "execution_count": 34,
     "metadata": {},
     "output_type": "execute_result"
    }
   ],
   "source": [
    "nums = [1,2,3,4,5]\n",
    "\n",
    "squares = list(map(lambda x: x**2, nums))\n",
    "\n",
    "squares"
   ]
  },
  {
   "cell_type": "code",
   "execution_count": 36,
   "metadata": {},
   "outputs": [
    {
     "data": {
      "text/plain": [
       "[1, 4, 9, 16, 25]"
      ]
     },
     "execution_count": 36,
     "metadata": {},
     "output_type": "execute_result"
    }
   ],
   "source": [
    "nums = [1,2,3,4,5]\n",
    "\n",
    "def squarefunct(x):\n",
    "     return x**2\n",
    "\n",
    "squares = list(map(squarefunct, nums))\n",
    "\n",
    "squares"
   ]
  },
  {
   "cell_type": "code",
   "execution_count": 41,
   "metadata": {},
   "outputs": [
    {
     "name": "stdout",
     "output_type": "stream",
     "text": [
      "['F', 'D', 'C', 'B', 'B', 'A', 'A']\n"
     ]
    }
   ],
   "source": [
    "grades = [80, 75, 85,60, 90, 95,50]\n",
    "\n",
    "grades = sorted(grades)\n",
    "\n",
    "def tograde(x):\n",
    "    if (x >= 90 ):\n",
    "        return 'A'\n",
    "    elif (x >= 80 < 90):\n",
    "        return 'B'\n",
    "    elif (x >= 70 < 80):\n",
    "        return 'C'\n",
    "    elif (x >= 60 < 70):\n",
    "        return 'D'\n",
    "    return 'F'\n",
    "    \n",
    "letters = list(map(tograde, grades))\n",
    "\n",
    "print(letters)"
   ]
  },
  {
   "cell_type": "code",
   "execution_count": 43,
   "metadata": {},
   "outputs": [
    {
     "name": "stdout",
     "output_type": "stream",
     "text": [
      "[50, 60, 75, 80, 85, 90, 95]\n",
      "['F', 'D', 'C', 'B', 'B', 'A', 'A']\n"
     ]
    }
   ],
   "source": [
    "grades = [80, 75, 85,60, 90, 95,50]\n",
    "\n",
    "grades = sorted(grades)\n",
    "\n",
    "def tograde(x):\n",
    "    if (x >= 90 ):\n",
    "        return 'A'\n",
    "    elif (x >= 80 < 90):\n",
    "        return 'B'\n",
    "    elif (x >= 70 < 80):\n",
    "        return 'C'\n",
    "    elif (x >= 60 < 70):\n",
    "        return 'D'\n",
    "    else:\n",
    "        return 'F'\n",
    "    \n",
    "letters = list(map(tograde, grades))\n",
    "print(grades)\n",
    "print(letters)"
   ]
  },
  {
   "cell_type": "code",
   "execution_count": 44,
   "metadata": {},
   "outputs": [
    {
     "name": "stdout",
     "output_type": "stream",
     "text": [
      "map(func, *iterables) --> map object\n",
      "\n",
      "Make an iterator that computes the function using arguments from\n",
      "each of the iterables.  Stops when the shortest iterable is exhausted.\n"
     ]
    }
   ],
   "source": [
    "print(map.__doc__)"
   ]
  },
  {
   "cell_type": "code",
   "execution_count": 2,
   "metadata": {},
   "outputs": [
    {
     "name": "stdout",
     "output_type": "stream",
     "text": [
      "This module implements specialized container datatypes providing\n",
      "alternatives to Python's general purpose built-in containers, dict,\n",
      "list, set, and tuple.\n",
      "\n",
      "* namedtuple   factory function for creating tuple subclasses with named fields\n",
      "* deque        list-like container with fast appends and pops on either end\n",
      "* ChainMap     dict-like class for creating a single view of multiple mappings\n",
      "* Counter      dict subclass for counting hashable objects\n",
      "* OrderedDict  dict subclass that remembers the order entries were added\n",
      "* defaultdict  dict subclass that calls a factory function to supply missing values\n",
      "* UserDict     wrapper around dictionary objects for easier dict subclassing\n",
      "* UserList     wrapper around list objects for easier list subclassing\n",
      "* UserString   wrapper around string objects for easier string subclassing\n",
      "\n",
      "\n"
     ]
    }
   ],
   "source": [
    "import collections\n",
    "print(collections.__doc__)"
   ]
  },
  {
   "cell_type": "code",
   "execution_count": 48,
   "metadata": {},
   "outputs": [
    {
     "name": "stdout",
     "output_type": "stream",
     "text": [
      "[0.0, 18.333333333333332, 37.77777777777778, 100.0]\n",
      "[32.0, 53.6, 93.2, 212.0]\n"
     ]
    }
   ],
   "source": [
    "ctemps = [0, 12,34, 100]\n",
    "\n",
    "ftemps = [32, 65, 100, 212]\n",
    "\n",
    "def f2celcius(temp):\n",
    "    return (temp - 32) * 5/9\n",
    "\n",
    "print(list(map(f2celcius, ftemps)))\n",
    "\n",
    "def c2fahrenheit(temp):\n",
    "    return (temp * 9/5) + 32\n",
    "\n",
    "print(list(map(c2fahrenheit, ctemps)))"
   ]
  },
  {
   "cell_type": "code",
   "execution_count": 52,
   "metadata": {},
   "outputs": [
    {
     "name": "stdout",
     "output_type": "stream",
     "text": [
      "[0.0, 18.333333333333332, 37.77777777777778, 100.0]\n",
      "[32.0, 53.6, 93.2, 212.0]\n"
     ]
    }
   ],
   "source": [
    "ctemps = [0, 12,34, 100]\n",
    "\n",
    "ftemps = [32, 65, 100, 212]\n",
    "\n",
    "print(list(map(lambda x: ((x - 32)* 5/9),ftemps))) \n",
    "\n",
    "print(list(map(lambda x: ((x * 9/5) + 32),ctemps))) \n"
   ]
  },
  {
   "cell_type": "markdown",
   "metadata": {},
   "source": [
    "**namedtuple**"
   ]
  },
  {
   "cell_type": "code",
   "execution_count": 3,
   "metadata": {},
   "outputs": [
    {
     "name": "stdout",
     "output_type": "stream",
     "text": [
      "point(x=10, y=20) point(x=30, y=40)\n"
     ]
    }
   ],
   "source": [
    "point = collections.namedtuple('point', 'x y')\n",
    "\n",
    "p1 = point(10,20)\n",
    "\n",
    "p2 = point(30,40)\n",
    "\n",
    "print(p1,p2)"
   ]
  },
  {
   "cell_type": "code",
   "execution_count": 4,
   "metadata": {},
   "outputs": [
    {
     "name": "stdout",
     "output_type": "stream",
     "text": [
      "10\n"
     ]
    }
   ],
   "source": [
    "print(p1.x)"
   ]
  },
  {
   "cell_type": "code",
   "execution_count": 5,
   "metadata": {},
   "outputs": [
    {
     "name": "stdout",
     "output_type": "stream",
     "text": [
      "40\n"
     ]
    }
   ],
   "source": [
    "print(p2.y)"
   ]
  },
  {
   "cell_type": "code",
   "execution_count": 7,
   "metadata": {},
   "outputs": [
    {
     "name": "stdout",
     "output_type": "stream",
     "text": [
      "point(x=100, y=20)\n"
     ]
    }
   ],
   "source": [
    "p1 = p1._replace(x = 100)\n",
    "print(p1)"
   ]
  },
  {
   "cell_type": "code",
   "execution_count": 12,
   "metadata": {},
   "outputs": [
    {
     "data": {
      "text/plain": [
       "{'apple': 2, 'pear': 1, 'orange': 1, 'banana': 3, 'grape': 1}"
      ]
     },
     "execution_count": 12,
     "metadata": {},
     "output_type": "execute_result"
    }
   ],
   "source": [
    "# define a list of items that we want to count\n",
    "\n",
    "fruits = ['apple', 'pear', 'orange', 'banana', 'apple', 'grape', 'banana', 'banana']\n",
    "\n",
    "fruitcount = {}\n",
    "\n",
    "for fruit in fruits:\n",
    "    if fruit in fruitcount.keys():\n",
    "        fruitcount[fruit] += 1\n",
    "    else:\n",
    "        fruitcount[fruit] = 1\n",
    "        \n",
    "fruitcount"
   ]
  },
  {
   "cell_type": "markdown",
   "metadata": {},
   "source": [
    "**defaultdict**"
   ]
  },
  {
   "cell_type": "code",
   "execution_count": 15,
   "metadata": {},
   "outputs": [],
   "source": [
    "from collections import defaultdict"
   ]
  },
  {
   "cell_type": "code",
   "execution_count": 16,
   "metadata": {},
   "outputs": [
    {
     "data": {
      "text/plain": [
       "defaultdict(int, {'apple': 2, 'pear': 1, 'orange': 1, 'banana': 3, 'grape': 1})"
      ]
     },
     "execution_count": 16,
     "metadata": {},
     "output_type": "execute_result"
    }
   ],
   "source": [
    "fruits = ['apple', 'pear', 'orange', 'banana', 'apple', 'grape', 'banana', 'banana']\n",
    "\n",
    "fruitcount = defaultdict(int)\n",
    "\n",
    "for fruit in fruits:\n",
    "        fruitcount[fruit] += 1\n",
    "        \n",
    "fruitcount"
   ]
  },
  {
   "cell_type": "code",
   "execution_count": 17,
   "metadata": {},
   "outputs": [
    {
     "data": {
      "text/plain": [
       "defaultdict(<function __main__.<lambda>()>,\n",
       "            {'apple': 102,\n",
       "             'pear': 101,\n",
       "             'orange': 101,\n",
       "             'banana': 103,\n",
       "             'grape': 101})"
      ]
     },
     "execution_count": 17,
     "metadata": {},
     "output_type": "execute_result"
    }
   ],
   "source": [
    "fruits = ['apple', 'pear', 'orange', 'banana', 'apple', 'grape', 'banana', 'banana']\n",
    "\n",
    "fruitcount = defaultdict(lambda: 100)\n",
    "\n",
    "for fruit in fruits:\n",
    "        fruitcount[fruit] += 1\n",
    "        \n",
    "fruitcount"
   ]
  },
  {
   "cell_type": "markdown",
   "metadata": {},
   "source": [
    "**Counters**"
   ]
  },
  {
   "cell_type": "code",
   "execution_count": 18,
   "metadata": {},
   "outputs": [],
   "source": [
    "from collections import Counter"
   ]
  },
  {
   "cell_type": "code",
   "execution_count": 24,
   "metadata": {},
   "outputs": [],
   "source": [
    "# list of students in class 1\n",
    "\n",
    "class1 = ['Bob', 'Becky', 'chad', 'Darcy', 'Frank', 'Hannah', 'james',\n",
    "          'kevin', 'james', 'melanie', 'Penny', 'Steve']\n",
    "\n",
    "# list of students in class 2\n",
    "\n",
    "class2 = ['Bill', 'Barry', 'Cindy', 'Debbie', 'Frank', 'Gabby', 'kelly',\n",
    "           'james', 'joe', 'sam', 'Tara', 'Ziggy']"
   ]
  },
  {
   "cell_type": "code",
   "execution_count": 25,
   "metadata": {},
   "outputs": [
    {
     "name": "stdout",
     "output_type": "stream",
     "text": [
      "Counter({'james': 2, 'Bob': 1, 'Becky': 1, 'chad': 1, 'Darcy': 1, 'Frank': 1, 'Hannah': 1, 'kevin': 1, 'melanie': 1, 'Penny': 1, 'Steve': 1})\n"
     ]
    }
   ],
   "source": [
    "# create a counter for class 1 and class 2\n",
    "\n",
    "c1 = Counter(class1)\n",
    "c2 = Counter(class2)\n",
    "\n",
    "print(c1)"
   ]
  },
  {
   "cell_type": "code",
   "execution_count": 26,
   "metadata": {},
   "outputs": [
    {
     "name": "stdout",
     "output_type": "stream",
     "text": [
      "Counter({'Bill': 1, 'Barry': 1, 'Cindy': 1, 'Debbie': 1, 'Frank': 1, 'Gabby': 1, 'kelly': 1, 'james': 1, 'joe': 1, 'sam': 1, 'Tara': 1, 'Ziggy': 1})\n"
     ]
    }
   ],
   "source": [
    "print(c2)"
   ]
  },
  {
   "cell_type": "code",
   "execution_count": 28,
   "metadata": {},
   "outputs": [
    {
     "name": "stdout",
     "output_type": "stream",
     "text": [
      "2 students named as james\n"
     ]
    }
   ],
   "source": [
    "# how many students in class1 named james?\n",
    "\n",
    "print(c1['james'], 'students named as james')"
   ]
  },
  {
   "cell_type": "code",
   "execution_count": 30,
   "metadata": {},
   "outputs": [
    {
     "name": "stdout",
     "output_type": "stream",
     "text": [
      "12 - total no.of students in class 1\n"
     ]
    }
   ],
   "source": [
    "# how many students are in class 1?\n",
    "\n",
    "print(sum(c1.values()), '- total no.of students in class 1')"
   ]
  },
  {
   "cell_type": "code",
   "execution_count": 31,
   "metadata": {},
   "outputs": [],
   "source": [
    "# combine the two classes\n",
    "\n",
    "c1.update(class2)"
   ]
  },
  {
   "cell_type": "code",
   "execution_count": 33,
   "metadata": {},
   "outputs": [
    {
     "name": "stdout",
     "output_type": "stream",
     "text": [
      "24 - total no.of students in class 1 after combining 2 classes\n"
     ]
    }
   ],
   "source": [
    "print(sum(c1.values()), '- total no.of students in class 1 after combining 2 classes')"
   ]
  },
  {
   "cell_type": "code",
   "execution_count": 35,
   "metadata": {},
   "outputs": [
    {
     "name": "stdout",
     "output_type": "stream",
     "text": [
      "[('james', 3), ('Frank', 2), ('Bob', 1)]\n"
     ]
    }
   ],
   "source": [
    "# what's the most common name in the two classes?\n",
    "\n",
    "print(c1.most_common(3))"
   ]
  },
  {
   "cell_type": "code",
   "execution_count": 36,
   "metadata": {},
   "outputs": [],
   "source": [
    "# seperate the classes again\n",
    "\n",
    "c1.subtract(class2)"
   ]
  },
  {
   "cell_type": "code",
   "execution_count": 37,
   "metadata": {},
   "outputs": [
    {
     "name": "stdout",
     "output_type": "stream",
     "text": [
      "[('james', 2), ('Bob', 1), ('Becky', 1)]\n"
     ]
    }
   ],
   "source": [
    "print(c1.most_common(3))"
   ]
  },
  {
   "cell_type": "code",
   "execution_count": 38,
   "metadata": {},
   "outputs": [
    {
     "name": "stdout",
     "output_type": "stream",
     "text": [
      "Counter({'Frank': 1, 'james': 1})\n"
     ]
    }
   ],
   "source": [
    "# what's common between the two classes?\n",
    "\n",
    "print(c1 & c2)"
   ]
  },
  {
   "cell_type": "markdown",
   "metadata": {},
   "source": [
    "**OrderedDict**"
   ]
  },
  {
   "cell_type": "code",
   "execution_count": 40,
   "metadata": {},
   "outputs": [],
   "source": [
    "from collections import OrderedDict"
   ]
  },
  {
   "cell_type": "code",
   "execution_count": 41,
   "metadata": {},
   "outputs": [],
   "source": [
    "# list of sport teams with wins and losses.\n",
    "\n",
    "sportTeams = [('Royals', (18,12)), ('Rockets', (24,6)),\n",
    "              ('Cardinals',(20,10)) , ('Dragons', (22,8)),\n",
    "              ('kings', (15,15)), ('chargers', (20,10)), \n",
    "              ('jets', (16,14)), ('warriors', (25,5)) ]"
   ]
  },
  {
   "cell_type": "code",
   "execution_count": 42,
   "metadata": {},
   "outputs": [],
   "source": [
    "# sort the teams by no.of wins\n",
    "\n",
    "sortedteams = sorted(sportTeams)"
   ]
  },
  {
   "cell_type": "code",
   "execution_count": 43,
   "metadata": {},
   "outputs": [
    {
     "data": {
      "text/plain": [
       "[('Cardinals', (20, 10)),\n",
       " ('Dragons', (22, 8)),\n",
       " ('Rockets', (24, 6)),\n",
       " ('Royals', (18, 12)),\n",
       " ('chargers', (20, 10)),\n",
       " ('jets', (16, 14)),\n",
       " ('kings', (15, 15)),\n",
       " ('warriors', (25, 5))]"
      ]
     },
     "execution_count": 43,
     "metadata": {},
     "output_type": "execute_result"
    }
   ],
   "source": [
    "sortedteams"
   ]
  },
  {
   "cell_type": "code",
   "execution_count": 48,
   "metadata": {},
   "outputs": [],
   "source": [
    "sortedteams = sorted(sportTeams, key = lambda x: x[1][0], reverse = True)"
   ]
  },
  {
   "cell_type": "code",
   "execution_count": 49,
   "metadata": {},
   "outputs": [
    {
     "data": {
      "text/plain": [
       "[('warriors', (25, 5)),\n",
       " ('Rockets', (24, 6)),\n",
       " ('Dragons', (22, 8)),\n",
       " ('Cardinals', (20, 10)),\n",
       " ('chargers', (20, 10)),\n",
       " ('Royals', (18, 12)),\n",
       " ('jets', (16, 14)),\n",
       " ('kings', (15, 15))]"
      ]
     },
     "execution_count": 49,
     "metadata": {},
     "output_type": "execute_result"
    }
   ],
   "source": [
    "sortedteams"
   ]
  },
  {
   "cell_type": "code",
   "execution_count": 50,
   "metadata": {},
   "outputs": [
    {
     "name": "stdout",
     "output_type": "stream",
     "text": [
      "OrderedDict([('warriors', (25, 5)), ('Rockets', (24, 6)), ('Dragons', (22, 8)), ('Cardinals', (20, 10)), ('chargers', (20, 10)), ('Royals', (18, 12)), ('jets', (16, 14)), ('kings', (15, 15))])\n"
     ]
    }
   ],
   "source": [
    "# create an ordered dictionary of the teams\n",
    "\n",
    "teams = OrderedDict(sortedteams)\n",
    "\n",
    "print(teams)"
   ]
  },
  {
   "cell_type": "code",
   "execution_count": 51,
   "metadata": {},
   "outputs": [
    {
     "data": {
      "text/plain": [
       "('kings', (15, 15))"
      ]
     },
     "execution_count": 51,
     "metadata": {},
     "output_type": "execute_result"
    }
   ],
   "source": [
    "# use popitem to remove the last item\n",
    "\n",
    "teams.popitem()"
   ]
  },
  {
   "cell_type": "code",
   "execution_count": 52,
   "metadata": {},
   "outputs": [
    {
     "data": {
      "text/plain": [
       "('warriors', (25, 5))"
      ]
     },
     "execution_count": 52,
     "metadata": {},
     "output_type": "execute_result"
    }
   ],
   "source": [
    "# use popitem to remove the top item\n",
    "\n",
    "teams.popitem(False)"
   ]
  },
  {
   "cell_type": "code",
   "execution_count": 53,
   "metadata": {},
   "outputs": [
    {
     "name": "stdout",
     "output_type": "stream",
     "text": [
      "1 Rockets\n",
      "2 Dragons\n",
      "3 Cardinals\n",
      "4 chargers\n",
      "5 Royals\n",
      "6 jets\n"
     ]
    }
   ],
   "source": [
    "# what are next top 4 items\n",
    "\n",
    "for i, team in enumerate(teams, start = 1):\n",
    "    print(i, team)"
   ]
  },
  {
   "cell_type": "code",
   "execution_count": 54,
   "metadata": {},
   "outputs": [
    {
     "name": "stdout",
     "output_type": "stream",
     "text": [
      "1 Rockets\n",
      "2 Dragons\n",
      "3 Cardinals\n",
      "4 chargers\n"
     ]
    }
   ],
   "source": [
    "for i, team in enumerate(teams, start = 1):\n",
    "    print(i, team)\n",
    "    if i == 4:\n",
    "        break"
   ]
  },
  {
   "cell_type": "code",
   "execution_count": 55,
   "metadata": {},
   "outputs": [
    {
     "data": {
      "text/plain": [
       "True"
      ]
     },
     "execution_count": 55,
     "metadata": {},
     "output_type": "execute_result"
    }
   ],
   "source": [
    "# test for equality\n",
    "\n",
    "a = OrderedDict({'a': 1, 'b': 2, 'c': 3})\n",
    "\n",
    "b = OrderedDict({'a': 1, 'b': 2, 'c': 3})\n",
    "\n",
    "a == b"
   ]
  },
  {
   "cell_type": "code",
   "execution_count": 56,
   "metadata": {},
   "outputs": [
    {
     "data": {
      "text/plain": [
       "False"
      ]
     },
     "execution_count": 56,
     "metadata": {},
     "output_type": "execute_result"
    }
   ],
   "source": [
    "a = OrderedDict({'a': 1, 'b': 2, 'c': 3})\n",
    "\n",
    "b = OrderedDict({'a': 1, 'c': 3, 'b': 2})\n",
    "\n",
    "a == b"
   ]
  },
  {
   "cell_type": "code",
   "execution_count": 57,
   "metadata": {},
   "outputs": [
    {
     "data": {
      "text/plain": [
       "True"
      ]
     },
     "execution_count": 57,
     "metadata": {},
     "output_type": "execute_result"
    }
   ],
   "source": [
    "a = {'a': 1, 'b': 2, 'c': 3}\n",
    "\n",
    "b = {'a': 1, 'c': 3, 'b': 2}\n",
    "\n",
    "a == b"
   ]
  },
  {
   "cell_type": "markdown",
   "metadata": {},
   "source": [
    "**Deque**"
   ]
  },
  {
   "cell_type": "markdown",
   "metadata": {},
   "source": [
    "double-ended queue, pronounced 'deck'"
   ]
  },
  {
   "cell_type": "code",
   "execution_count": 59,
   "metadata": {},
   "outputs": [],
   "source": [
    "import string"
   ]
  },
  {
   "cell_type": "code",
   "execution_count": 61,
   "metadata": {},
   "outputs": [
    {
     "name": "stdout",
     "output_type": "stream",
     "text": [
      "deque(['a', 'b', 'c', 'd', 'e', 'f', 'g', 'h', 'i', 'j', 'k', 'l', 'm', 'n', 'o', 'p', 'q', 'r', 's', 't', 'u', 'v', 'w', 'x', 'y', 'z'])\n"
     ]
    }
   ],
   "source": [
    "# initialize a deque with lowercase letters\n",
    "\n",
    "d = collections.deque(string.ascii_lowercase)\n",
    "\n",
    "print(d)"
   ]
  },
  {
   "cell_type": "code",
   "execution_count": 62,
   "metadata": {},
   "outputs": [
    {
     "name": "stdout",
     "output_type": "stream",
     "text": [
      "deque(['A', 'B', 'C', 'D', 'E', 'F', 'G', 'H', 'I', 'J', 'K', 'L', 'M', 'N', 'O', 'P', 'Q', 'R', 'S', 'T', 'U', 'V', 'W', 'X', 'Y', 'Z'])\n"
     ]
    }
   ],
   "source": [
    "D = collections.deque(string.ascii_uppercase)\n",
    "\n",
    "print(D)"
   ]
  },
  {
   "cell_type": "code",
   "execution_count": 64,
   "metadata": {},
   "outputs": [
    {
     "name": "stdout",
     "output_type": "stream",
     "text": [
      "26 letters\n"
     ]
    }
   ],
   "source": [
    "# deques support the len() function\n",
    "\n",
    "print(len(d), 'letters')"
   ]
  },
  {
   "cell_type": "code",
   "execution_count": 65,
   "metadata": {},
   "outputs": [
    {
     "name": "stdout",
     "output_type": "stream",
     "text": [
      "A\n",
      "B\n",
      "C\n",
      "D\n",
      "E\n",
      "F\n",
      "G\n",
      "H\n",
      "I\n",
      "J\n",
      "K\n",
      "L\n",
      "M\n",
      "N\n",
      "O\n",
      "P\n",
      "Q\n",
      "R\n",
      "S\n",
      "T\n",
      "U\n",
      "V\n",
      "W\n",
      "X\n",
      "Y\n",
      "Z\n"
     ]
    }
   ],
   "source": [
    "# deques can be iterated over\n",
    "\n",
    "for item in d:\n",
    "    print(item.upper())\n"
   ]
  },
  {
   "cell_type": "code",
   "execution_count": 67,
   "metadata": {},
   "outputs": [
    {
     "name": "stdout",
     "output_type": "stream",
     "text": [
      "deque(['c', 'd', 'e', 'f', 'g', 'h', 'i', 'j', 'k', 'l', 'm', 'n', 'o', 'p', 'q', 'r', 's', 't', 'u', 'v', 'w', 'x'])\n"
     ]
    }
   ],
   "source": [
    "# manipulate items from either end\n",
    "\n",
    "d.pop()\n",
    "d.popleft()\n",
    "\n",
    "print(d)"
   ]
  },
  {
   "cell_type": "code",
   "execution_count": 68,
   "metadata": {},
   "outputs": [
    {
     "name": "stdout",
     "output_type": "stream",
     "text": [
      "deque([1, 'c', 'd', 'e', 'f', 'g', 'h', 'i', 'j', 'k', 'l', 'm', 'n', 'o', 'p', 'q', 'r', 's', 't', 'u', 'v', 'w', 'x', 2])\n"
     ]
    }
   ],
   "source": [
    "d.append(2)\n",
    "d.appendleft(1)\n",
    "\n",
    "print(d)"
   ]
  },
  {
   "cell_type": "code",
   "execution_count": 69,
   "metadata": {},
   "outputs": [
    {
     "name": "stdout",
     "output_type": "stream",
     "text": [
      "deque(['p', 'q', 'r', 's', 't', 'u', 'v', 'w', 'x', 2, 1, 'c', 'd', 'e', 'f', 'g', 'h', 'i', 'j', 'k', 'l', 'm', 'n', 'o'])\n"
     ]
    }
   ],
   "source": [
    "# rotate the deque\n",
    "\n",
    "d.rotate(10)\n",
    "\n",
    "print(d)"
   ]
  },
  {
   "cell_type": "markdown",
   "metadata": {},
   "source": [
    "**defining enumerations**"
   ]
  },
  {
   "cell_type": "code",
   "execution_count": 83,
   "metadata": {},
   "outputs": [],
   "source": [
    "from enum import Enum, unique, auto"
   ]
  },
  {
   "cell_type": "code",
   "execution_count": 72,
   "metadata": {},
   "outputs": [],
   "source": [
    "class fruit(Enum):\n",
    "    apple = 1\n",
    "    banana = 2\n",
    "    grapes = 3\n",
    "    orange = 4"
   ]
  },
  {
   "cell_type": "code",
   "execution_count": 73,
   "metadata": {},
   "outputs": [
    {
     "name": "stdout",
     "output_type": "stream",
     "text": [
      "fruit.apple\n"
     ]
    }
   ],
   "source": [
    "print(fruit.apple)"
   ]
  },
  {
   "cell_type": "code",
   "execution_count": 74,
   "metadata": {},
   "outputs": [
    {
     "name": "stdout",
     "output_type": "stream",
     "text": [
      "<enum 'fruit'>\n"
     ]
    }
   ],
   "source": [
    "print(type(fruit.apple))"
   ]
  },
  {
   "cell_type": "code",
   "execution_count": 75,
   "metadata": {},
   "outputs": [
    {
     "name": "stdout",
     "output_type": "stream",
     "text": [
      "<fruit.apple: 1>\n"
     ]
    }
   ],
   "source": [
    "print(repr(fruit.apple))"
   ]
  },
  {
   "cell_type": "code",
   "execution_count": 76,
   "metadata": {},
   "outputs": [
    {
     "name": "stdout",
     "output_type": "stream",
     "text": [
      "apple 1\n"
     ]
    }
   ],
   "source": [
    "print(fruit.apple.name, fruit.apple.value)"
   ]
  },
  {
   "cell_type": "code",
   "execution_count": 79,
   "metadata": {},
   "outputs": [
    {
     "ename": "TypeError",
     "evalue": "Attempted to reuse key: 'apple'",
     "output_type": "error",
     "traceback": [
      "\u001b[1;31m---------------------------------------------------------------------------\u001b[0m",
      "\u001b[1;31mTypeError\u001b[0m                                 Traceback (most recent call last)",
      "\u001b[1;32m<ipython-input-79-579db3ea3914>\u001b[0m in \u001b[0;36m<module>\u001b[1;34m\u001b[0m\n\u001b[1;32m----> 1\u001b[1;33m \u001b[1;32mclass\u001b[0m \u001b[0mfruit\u001b[0m\u001b[1;33m(\u001b[0m\u001b[0mEnum\u001b[0m\u001b[1;33m)\u001b[0m\u001b[1;33m:\u001b[0m\u001b[1;33m\u001b[0m\u001b[1;33m\u001b[0m\u001b[0m\n\u001b[0m\u001b[0;32m      2\u001b[0m     \u001b[0mapple\u001b[0m \u001b[1;33m=\u001b[0m \u001b[1;36m1\u001b[0m\u001b[1;33m\u001b[0m\u001b[1;33m\u001b[0m\u001b[0m\n\u001b[0;32m      3\u001b[0m     \u001b[0mbanana\u001b[0m \u001b[1;33m=\u001b[0m \u001b[1;36m2\u001b[0m\u001b[1;33m\u001b[0m\u001b[1;33m\u001b[0m\u001b[0m\n\u001b[0;32m      4\u001b[0m     \u001b[0mgrapes\u001b[0m \u001b[1;33m=\u001b[0m \u001b[1;36m3\u001b[0m\u001b[1;33m\u001b[0m\u001b[1;33m\u001b[0m\u001b[0m\n\u001b[0;32m      5\u001b[0m     \u001b[0morange\u001b[0m \u001b[1;33m=\u001b[0m \u001b[1;36m4\u001b[0m\u001b[1;33m\u001b[0m\u001b[1;33m\u001b[0m\u001b[0m\n",
      "\u001b[1;32m<ipython-input-79-579db3ea3914>\u001b[0m in \u001b[0;36mfruit\u001b[1;34m()\u001b[0m\n\u001b[0;32m      4\u001b[0m     \u001b[0mgrapes\u001b[0m \u001b[1;33m=\u001b[0m \u001b[1;36m3\u001b[0m\u001b[1;33m\u001b[0m\u001b[1;33m\u001b[0m\u001b[0m\n\u001b[0;32m      5\u001b[0m     \u001b[0morange\u001b[0m \u001b[1;33m=\u001b[0m \u001b[1;36m4\u001b[0m\u001b[1;33m\u001b[0m\u001b[1;33m\u001b[0m\u001b[0m\n\u001b[1;32m----> 6\u001b[1;33m     \u001b[0mapple\u001b[0m \u001b[1;33m=\u001b[0m \u001b[1;36m6\u001b[0m\u001b[1;33m\u001b[0m\u001b[1;33m\u001b[0m\u001b[0m\n\u001b[0m\u001b[0;32m      7\u001b[0m \u001b[0mprint\u001b[0m\u001b[1;33m(\u001b[0m\u001b[0mfruit\u001b[0m\u001b[1;33m.\u001b[0m\u001b[0mapple\u001b[0m\u001b[1;33m.\u001b[0m\u001b[0mname\u001b[0m\u001b[1;33m,\u001b[0m \u001b[0mfruit\u001b[0m\u001b[1;33m.\u001b[0m\u001b[0mapple\u001b[0m\u001b[1;33m.\u001b[0m\u001b[0mvalue\u001b[0m\u001b[1;33m)\u001b[0m\u001b[1;33m\u001b[0m\u001b[1;33m\u001b[0m\u001b[0m\n",
      "\u001b[1;32mD:\\Anaconda\\lib\\enum.py\u001b[0m in \u001b[0;36m__setitem__\u001b[1;34m(self, key, value)\u001b[0m\n\u001b[0;32m     99\u001b[0m         \u001b[1;32melif\u001b[0m \u001b[0mkey\u001b[0m \u001b[1;32min\u001b[0m \u001b[0mself\u001b[0m\u001b[1;33m.\u001b[0m\u001b[0m_member_names\u001b[0m\u001b[1;33m:\u001b[0m\u001b[1;33m\u001b[0m\u001b[1;33m\u001b[0m\u001b[0m\n\u001b[0;32m    100\u001b[0m             \u001b[1;31m# descriptor overwriting an enum?\u001b[0m\u001b[1;33m\u001b[0m\u001b[1;33m\u001b[0m\u001b[1;33m\u001b[0m\u001b[0m\n\u001b[1;32m--> 101\u001b[1;33m             \u001b[1;32mraise\u001b[0m \u001b[0mTypeError\u001b[0m\u001b[1;33m(\u001b[0m\u001b[1;34m'Attempted to reuse key: %r'\u001b[0m \u001b[1;33m%\u001b[0m \u001b[0mkey\u001b[0m\u001b[1;33m)\u001b[0m\u001b[1;33m\u001b[0m\u001b[1;33m\u001b[0m\u001b[0m\n\u001b[0m\u001b[0;32m    102\u001b[0m         \u001b[1;32melif\u001b[0m \u001b[0mkey\u001b[0m \u001b[1;32min\u001b[0m \u001b[0mself\u001b[0m\u001b[1;33m.\u001b[0m\u001b[0m_ignore\u001b[0m\u001b[1;33m:\u001b[0m\u001b[1;33m\u001b[0m\u001b[1;33m\u001b[0m\u001b[0m\n\u001b[0;32m    103\u001b[0m             \u001b[1;32mpass\u001b[0m\u001b[1;33m\u001b[0m\u001b[1;33m\u001b[0m\u001b[0m\n",
      "\u001b[1;31mTypeError\u001b[0m: Attempted to reuse key: 'apple'"
     ]
    }
   ],
   "source": [
    "class fruit(Enum):\n",
    "    apple = 1\n",
    "    banana = 2\n",
    "    grapes = 3\n",
    "    orange = 4\n",
    "    apple = 6\n",
    "print(fruit.apple.name, fruit.apple.value)"
   ]
  },
  {
   "cell_type": "code",
   "execution_count": 80,
   "metadata": {},
   "outputs": [
    {
     "name": "stdout",
     "output_type": "stream",
     "text": [
      "apple 1\n"
     ]
    }
   ],
   "source": [
    "class fruit(Enum):\n",
    "    apple = 1\n",
    "    banana = 2\n",
    "    grapes = 3\n",
    "    orange = 4\n",
    "    pineapple = 1\n",
    "print(fruit.apple.name, fruit.apple.value)"
   ]
  },
  {
   "cell_type": "code",
   "execution_count": 82,
   "metadata": {},
   "outputs": [
    {
     "ename": "ValueError",
     "evalue": "duplicate values found in <enum 'fruit'>: pineapple -> apple",
     "output_type": "error",
     "traceback": [
      "\u001b[1;31m---------------------------------------------------------------------------\u001b[0m",
      "\u001b[1;31mValueError\u001b[0m                                Traceback (most recent call last)",
      "\u001b[1;32m<ipython-input-82-7b24f592fa70>\u001b[0m in \u001b[0;36m<module>\u001b[1;34m\u001b[0m\n\u001b[0;32m      1\u001b[0m \u001b[1;33m@\u001b[0m\u001b[0munique\u001b[0m\u001b[1;33m\u001b[0m\u001b[1;33m\u001b[0m\u001b[0m\n\u001b[1;32m----> 2\u001b[1;33m \u001b[1;32mclass\u001b[0m \u001b[0mfruit\u001b[0m\u001b[1;33m(\u001b[0m\u001b[0mEnum\u001b[0m\u001b[1;33m)\u001b[0m\u001b[1;33m:\u001b[0m\u001b[1;33m\u001b[0m\u001b[1;33m\u001b[0m\u001b[0m\n\u001b[0m\u001b[0;32m      3\u001b[0m     \u001b[0mapple\u001b[0m \u001b[1;33m=\u001b[0m \u001b[1;36m1\u001b[0m\u001b[1;33m\u001b[0m\u001b[1;33m\u001b[0m\u001b[0m\n\u001b[0;32m      4\u001b[0m     \u001b[0mbanana\u001b[0m \u001b[1;33m=\u001b[0m \u001b[1;36m2\u001b[0m\u001b[1;33m\u001b[0m\u001b[1;33m\u001b[0m\u001b[0m\n\u001b[0;32m      5\u001b[0m     \u001b[0mgrapes\u001b[0m \u001b[1;33m=\u001b[0m \u001b[1;36m3\u001b[0m\u001b[1;33m\u001b[0m\u001b[1;33m\u001b[0m\u001b[0m\n",
      "\u001b[1;32mD:\\Anaconda\\lib\\enum.py\u001b[0m in \u001b[0;36munique\u001b[1;34m(enumeration)\u001b[0m\n\u001b[0;32m    867\u001b[0m                 [\"%s -> %s\" % (alias, name) for (alias, name) in duplicates])\n\u001b[0;32m    868\u001b[0m         raise ValueError('duplicate values found in %r: %s' %\n\u001b[1;32m--> 869\u001b[1;33m                 (enumeration, alias_details))\n\u001b[0m\u001b[0;32m    870\u001b[0m     \u001b[1;32mreturn\u001b[0m \u001b[0menumeration\u001b[0m\u001b[1;33m\u001b[0m\u001b[1;33m\u001b[0m\u001b[0m\n\u001b[0;32m    871\u001b[0m \u001b[1;33m\u001b[0m\u001b[0m\n",
      "\u001b[1;31mValueError\u001b[0m: duplicate values found in <enum 'fruit'>: pineapple -> apple"
     ]
    }
   ],
   "source": [
    "@unique\n",
    "class fruit(Enum):\n",
    "    apple = 1\n",
    "    banana = 2\n",
    "    grapes = 3\n",
    "    orange = 4\n",
    "    pineapple = 1\n",
    "print(fruit.apple.name, fruit.apple.value)"
   ]
  },
  {
   "cell_type": "code",
   "execution_count": 85,
   "metadata": {},
   "outputs": [
    {
     "name": "stdout",
     "output_type": "stream",
     "text": [
      "pineapple 5\n"
     ]
    }
   ],
   "source": [
    "class fruit(Enum):\n",
    "    apple = 1\n",
    "    banana = 2\n",
    "    grapes = 3\n",
    "    orange = 4\n",
    "    pineapple = auto()\n",
    "print(fruit.pineapple.name, fruit.pineapple.value)"
   ]
  },
  {
   "cell_type": "code",
   "execution_count": 87,
   "metadata": {},
   "outputs": [],
   "source": [
    "class person():\n",
    "    def __init__(self):\n",
    "        self.fname = 'Joe'\n",
    "        self.lname = 'Marini'\n",
    "        self.age = 25"
   ]
  },
  {
   "cell_type": "code",
   "execution_count": 88,
   "metadata": {},
   "outputs": [],
   "source": [
    "cls1 = person()"
   ]
  },
  {
   "cell_type": "code",
   "execution_count": 89,
   "metadata": {},
   "outputs": [
    {
     "name": "stdout",
     "output_type": "stream",
     "text": [
      "<__main__.person object at 0x0000012389086D08>\n"
     ]
    }
   ],
   "source": [
    "print(str(cls1))"
   ]
  },
  {
   "cell_type": "code",
   "execution_count": 90,
   "metadata": {},
   "outputs": [
    {
     "name": "stdout",
     "output_type": "stream",
     "text": [
      "<__main__.person object at 0x0000012389086D08>\n"
     ]
    }
   ],
   "source": [
    "print(repr(cls1))"
   ]
  },
  {
   "cell_type": "code",
   "execution_count": 91,
   "metadata": {},
   "outputs": [
    {
     "name": "stdout",
     "output_type": "stream",
     "text": [
      "Formatted: <__main__.person object at 0x0000012389086D08>\n"
     ]
    }
   ],
   "source": [
    "print('Formatted: {0}'.format(cls1))"
   ]
  },
  {
   "cell_type": "code",
   "execution_count": 96,
   "metadata": {},
   "outputs": [],
   "source": [
    "class person():\n",
    "    def __init__(self):\n",
    "        self.fname = 'Joe'\n",
    "        self.lname = 'Marini'\n",
    "        self.age = 25\n",
    "        \n",
    "    def __repr__(self):\n",
    "        return 'person class - fname:{0}, lname:{1}, age:{2}'.format(self.fname,self.lname, self.age)"
   ]
  },
  {
   "cell_type": "code",
   "execution_count": 97,
   "metadata": {},
   "outputs": [
    {
     "name": "stdout",
     "output_type": "stream",
     "text": [
      "person class - fname:Joe, lname:Marini, age:25\n",
      "person class - fname:Joe, lname:Marini, age:25\n"
     ]
    }
   ],
   "source": [
    "cls1 = person()\n",
    "print(str(cls1))\n",
    "print(repr(cls1))"
   ]
  },
  {
   "cell_type": "code",
   "execution_count": 100,
   "metadata": {},
   "outputs": [],
   "source": [
    "class person():\n",
    "    def __init__(self):\n",
    "        self.fname = 'Joe'\n",
    "        self.lname = 'Marini'\n",
    "        self.age = 25\n",
    "        \n",
    "    def __repr__(self):\n",
    "        return 'person class - fname:{0}, lname:{1}, age:{2}'.format(self.fname,self.lname, self.age)\n",
    "    \n",
    "    def __str__(self):\n",
    "        return 'Person ({0} {1} is {2} years old)'.format(self.fname,self.lname, self.age)\n",
    "    "
   ]
  },
  {
   "cell_type": "code",
   "execution_count": 101,
   "metadata": {},
   "outputs": [
    {
     "name": "stdout",
     "output_type": "stream",
     "text": [
      "Person (Joe Marini is 25 years old)\n",
      "person class - fname:Joe, lname:Marini, age:25\n"
     ]
    }
   ],
   "source": [
    "cls1 = person()\n",
    "\n",
    "print(str(cls1))\n",
    "\n",
    "print(repr(cls1))"
   ]
  },
  {
   "cell_type": "code",
   "execution_count": 104,
   "metadata": {},
   "outputs": [],
   "source": [
    "class person():\n",
    "    def __init__(self):\n",
    "        self.fname = 'Joe'\n",
    "        self.lname = 'Marini'\n",
    "        self.age = 25\n",
    "        \n",
    "    def __repr__(self):\n",
    "        return 'person class - fname:{0}, lname:{1}, age:{2}'.format(self.fname,self.lname, self.age)\n",
    "    \n",
    "    def __str__(self):\n",
    "        return 'Person ({0} {1} is {2} years old)'.format(self.fname,self.lname, self.age)\n",
    "    \n",
    "    def __bytes__(self):\n",
    "        val = 'Person: {0}: {1}: {2}'.format(self.fname,self.lname, self.age) \n",
    "        return bytes(val.encode('utf-8'))"
   ]
  },
  {
   "cell_type": "code",
   "execution_count": 105,
   "metadata": {},
   "outputs": [
    {
     "name": "stdout",
     "output_type": "stream",
     "text": [
      "Person (Joe Marini is 25 years old)\n",
      "person class - fname:Joe, lname:Marini, age:25\n",
      "b'Person: Joe: Marini: 25'\n"
     ]
    }
   ],
   "source": [
    "cls1 = person()\n",
    "\n",
    "print(str(cls1))\n",
    "\n",
    "print(repr(cls1))\n",
    "\n",
    "print(bytes(cls1))"
   ]
  },
  {
   "cell_type": "code",
   "execution_count": null,
   "metadata": {},
   "outputs": [],
   "source": []
  },
  {
   "cell_type": "code",
   "execution_count": null,
   "metadata": {},
   "outputs": [],
   "source": []
  }
 ],
 "metadata": {
  "kernelspec": {
   "display_name": "Python 3",
   "language": "python",
   "name": "python3"
  },
  "language_info": {
   "codemirror_mode": {
    "name": "ipython",
    "version": 3
   },
   "file_extension": ".py",
   "mimetype": "text/x-python",
   "name": "python",
   "nbconvert_exporter": "python",
   "pygments_lexer": "ipython3",
   "version": "3.7.6"
  }
 },
 "nbformat": 4,
 "nbformat_minor": 4
}
