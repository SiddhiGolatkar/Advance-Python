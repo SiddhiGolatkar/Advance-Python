{
 "cells": [
  {
   "cell_type": "markdown",
   "metadata": {},
   "source": [
    "# Python Comprehensions"
   ]
  },
  {
   "cell_type": "markdown",
   "metadata": {},
   "source": [
    "## 1. List comprehension"
   ]
  },
  {
   "cell_type": "code",
   "execution_count": 16,
   "metadata": {
    "scrolled": true
   },
   "outputs": [
    {
     "name": "stdout",
     "output_type": "stream",
     "text": [
      "Evensquared using lambda:  [4, 16, 36, 64, 100, 144, 196, 256, 324, 400] \n",
      "\n",
      "filtered Evensquared using lambda:  [36, 64, 100, 144, 196] \n",
      "\n",
      "Evensquared using comprehension:  [4, 16, 36, 64, 100, 144, 196, 256, 324, 400] \n",
      "\n",
      "oddsquared filtered using comprehension:  [25, 49, 81, 121, 169, 225] \n",
      "\n"
     ]
    }
   ],
   "source": [
    "def main():\n",
    "    # define two list of numbers\n",
    "    \n",
    "    evens = [2,4,6,8,10,12,14,16,18,20]\n",
    "    \n",
    "    odds = [1,3,5,7,9,11,13,15,17,19]\n",
    "    \n",
    "    # perform a mapping and filter function on a list\n",
    "    \n",
    "    evensquared = list(map(lambda x: x**2 , evens))\n",
    "    \n",
    "    print('Evensquared using lambda: ',evensquared, '\\n')\n",
    "    \n",
    "    evensquared = list(map(lambda x: x**2 , filter(lambda x: x >4 and x <16, evens)))\n",
    "    \n",
    "    print('filtered Evensquared using lambda: ',evensquared, '\\n')\n",
    "    \n",
    "    # derive a new list of numbers from a given list\n",
    "    \n",
    "    evensquared = [x**2 for x in evens]\n",
    "    \n",
    "    print('Evensquared using comprehension: ', evensquared, '\\n')\n",
    "    \n",
    "    # limit the items operated on with a predicate condition\n",
    "    \n",
    "    oddsquared = [x**2 for x in odds if x > 3 and x < 17]\n",
    "    \n",
    "    print('oddsquared filtered using comprehension: ', oddsquared, '\\n')\n",
    "    \n",
    "if __name__ == '__main__':\n",
    "    main()\n",
    "    "
   ]
  },
  {
   "cell_type": "code",
   "execution_count": 39,
   "metadata": {},
   "outputs": [
    {
     "name": "stdout",
     "output_type": "stream",
     "text": [
      "[[25, 49, 81, 121, 169, 225, 4, 16, 36, 64, 100, 144, 196, 256, 324, 400]]\n"
     ]
    }
   ],
   "source": [
    "evens = [2,4,6,8,10,12,14,16,18,20]\n",
    "\n",
    "evensquared = [x**2 for x in evens]\n",
    "    \n",
    "odds = [1,3,5,7,9,11,13,15,17,19]\n",
    "\n",
    "oddsquared = [x**2 for x in odds if x > 3 and x < 17]\n",
    "\n",
    "newlist = [oddsquared + evensquared]\n",
    "\n",
    "print(newlist)"
   ]
  },
  {
   "cell_type": "code",
   "execution_count": 32,
   "metadata": {},
   "outputs": [
    {
     "name": "stdout",
     "output_type": "stream",
     "text": [
      "[32.0, 53.6, 93.2, 212.0] \n",
      "\n"
     ]
    }
   ],
   "source": [
    "ctemps = [0, 12, 34, 100]\n",
    "    \n",
    "# use a comprehension to build a list\n",
    "    \n",
    "tempdict = [(t * 9/5) + 32 for t in ctemps ] \n",
    "    \n",
    "print(tempdict, '\\n')"
   ]
  },
  {
   "cell_type": "markdown",
   "metadata": {},
   "source": [
    "## 2. Dictionary Comprehensions"
   ]
  },
  {
   "cell_type": "code",
   "execution_count": 28,
   "metadata": {},
   "outputs": [
    {
     "name": "stdout",
     "output_type": "stream",
     "text": [
      "{0: 32.0, 12: 53.6, 34: 93.2, 100: 212.0} \n",
      "\n",
      "{0: 32.0, 12: 53.6, 34: 93.2} \n",
      "\n",
      "53.6 \n",
      "\n",
      "{'jones': 24, 'jameson': 18, 'smith': 58, 'burns': 7, 'white': 12, 'mack': 88, 'perce': 4}\n"
     ]
    }
   ],
   "source": [
    "def main():\n",
    "    # define a list of temperature values\n",
    "    ctemps = [0, 12, 34, 100]\n",
    "    \n",
    "    # use a comprehension to build a dictionary\n",
    "    \n",
    "    tempdict = { t: (t * 9/5) + 32 for t in ctemps}\n",
    "    \n",
    "    print(tempdict, '\\n')\n",
    "    \n",
    "    tempdict = { t: (t * 9/5) + 32 for t in ctemps if t < 100}\n",
    "    \n",
    "    print(tempdict, '\\n')\n",
    "    \n",
    "    print(tempdict[12], '\\n')\n",
    "    \n",
    "    # merge two dictionaries with a comprehension\n",
    "    \n",
    "    team1 = {'jones': 24, 'jameson': 18, 'smith': 58, 'burns': 7}\n",
    "    \n",
    "    team2 = {'white': 12, 'mack': 88, 'perce': 4}\n",
    "    \n",
    "    newteam = {k:v for team in (team1, team2) for k,v in team.items()}\n",
    "    \n",
    "    print(newteam)\n",
    "    \n",
    "if __name__ == '__main__':\n",
    "    main()"
   ]
  },
  {
   "cell_type": "markdown",
   "metadata": {},
   "source": [
    "## 3. Set comprehensions"
   ]
  },
  {
   "cell_type": "code",
   "execution_count": 42,
   "metadata": {},
   "outputs": [
    {
     "name": "stdout",
     "output_type": "stream",
     "text": [
      "[41.0, 50.0, 53.6, 57.2, 50.0, 73.4, 105.8, 86.0, 53.6, 75.2, 53.6, 64.4, 84.2] \n",
      "\n",
      "{64.4, 73.4, 41.0, 105.8, 75.2, 50.0, 84.2, 53.6, 86.0, 57.2}\n"
     ]
    }
   ],
   "source": [
    "def main():\n",
    "    \n",
    "   # define a list of temperature data points\n",
    "   \n",
    "    ctemps = [5, 10, 12, 14, 10, 23, 41, 30, 12, 24, 12, 18, 29]\n",
    "    \n",
    "    ftemps1 = [(t * 9/5) + 32 for t in ctemps]\n",
    "    \n",
    "    ftemps2 = {(t * 9/5) + 32 for t in ctemps}\n",
    "    \n",
    "    print(ftemps1, '\\n')\n",
    "    \n",
    "    print(ftemps2)\n",
    "    \n",
    "if __name__ == '__main__':\n",
    "  main()"
   ]
  },
  {
   "cell_type": "code",
   "execution_count": 43,
   "metadata": {},
   "outputs": [
    {
     "name": "stdout",
     "output_type": "stream",
     "text": [
      "{'D', 'E', 'F', 'I', ' ', 'C', 'T', 'B', 'Z', 'J', 'H', 'L', 'P', 'V', 'U', 'A', 'Y', 'W', 'R', 'M', 'G', 'X', 'K', 'O', 'N'}\n"
     ]
    }
   ],
   "source": [
    "stemp = 'the thick brown fox jumped over the lazy dog'\n",
    "\n",
    "chars = {c.upper() for c in stemp}\n",
    "\n",
    "print(chars)"
   ]
  },
  {
   "cell_type": "code",
   "execution_count": 44,
   "metadata": {},
   "outputs": [
    {
     "name": "stdout",
     "output_type": "stream",
     "text": [
      "{'D', 'E', 'F', 'I', 'C', 'T', 'B', 'Z', 'J', 'H', 'L', 'P', 'V', 'U', 'A', 'Y', 'W', 'R', 'M', 'G', 'X', 'K', 'O', 'N'}\n"
     ]
    }
   ],
   "source": [
    "stemp = 'the thick brown fox jumped over the lazy dog'\n",
    "\n",
    "chars = {c.upper() for c in stemp if not c.isspace()}\n",
    "\n",
    "print(chars)"
   ]
  },
  {
   "cell_type": "code",
   "execution_count": null,
   "metadata": {},
   "outputs": [],
   "source": []
  },
  {
   "cell_type": "code",
   "execution_count": null,
   "metadata": {},
   "outputs": [],
   "source": []
  }
 ],
 "metadata": {
  "kernelspec": {
   "display_name": "Python 3",
   "language": "python",
   "name": "python3"
  },
  "language_info": {
   "codemirror_mode": {
    "name": "ipython",
    "version": 3
   },
   "file_extension": ".py",
   "mimetype": "text/x-python",
   "name": "python",
   "nbconvert_exporter": "python",
   "pygments_lexer": "ipython3",
   "version": "3.7.6"
  }
 },
 "nbformat": 4,
 "nbformat_minor": 4
}
